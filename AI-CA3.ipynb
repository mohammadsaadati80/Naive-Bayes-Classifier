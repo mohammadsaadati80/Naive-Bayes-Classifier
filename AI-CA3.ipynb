{
 "cells": [
  {
   "cell_type": "markdown",
   "id": "542c8e10",
   "metadata": {},
   "source": [
    "# AI Computer Assignment 3 ( Naive Bayes Classifier)\n",
    "Mohammad Saadati - \n",
    "_810198410_"
   ]
  },
  {
   "cell_type": "markdown",
   "id": "84194349",
   "metadata": {},
   "source": [
    "## Introduction\n",
    "In this project, we intend to use Naive Bayes Classifier to analyze \"Divar\" site ads and categorize them, and try to predict the category using the data we have about the title and description of each ad. ."
   ]
  },
  {
   "cell_type": "code",
   "execution_count": 43,
   "id": "d469c525",
   "metadata": {},
   "outputs": [
    {
     "data": {
      "text/html": [
       "<div>\n",
       "<style scoped>\n",
       "    .dataframe tbody tr th:only-of-type {\n",
       "        vertical-align: middle;\n",
       "    }\n",
       "\n",
       "    .dataframe tbody tr th {\n",
       "        vertical-align: top;\n",
       "    }\n",
       "\n",
       "    .dataframe thead th {\n",
       "        text-align: right;\n",
       "    }\n",
       "</style>\n",
       "<table border=\"1\" class=\"dataframe\">\n",
       "  <thead>\n",
       "    <tr style=\"text-align: right;\">\n",
       "      <th></th>\n",
       "      <th>content</th>\n",
       "      <th>label</th>\n",
       "    </tr>\n",
       "  </thead>\n",
       "  <tbody>\n",
       "    <tr>\n",
       "      <th>0</th>\n",
       "      <td>فیلم‌های در حال اکران؛ موزیکال شاد خاله قورباغ...</td>\n",
       "      <td>هنر و سینما</td>\n",
       "    </tr>\n",
       "    <tr>\n",
       "      <th>1</th>\n",
       "      <td>پنج فیلمسازی که کوئنتین تارانتینو را عاشق سینم...</td>\n",
       "      <td>هنر و سینما</td>\n",
       "    </tr>\n",
       "    <tr>\n",
       "      <th>2</th>\n",
       "      <td>جانی آیو از اپل رفت جانی آیو دیگر نیازی به معر...</td>\n",
       "      <td>علم و تکنولوژی</td>\n",
       "    </tr>\n",
       "    <tr>\n",
       "      <th>3</th>\n",
       "      <td>احتمال عدم پشتیبانی iOS ۱۳ از آیفون ۵ اس، SE و...</td>\n",
       "      <td>علم و تکنولوژی</td>\n",
       "    </tr>\n",
       "    <tr>\n",
       "      <th>4</th>\n",
       "      <td>دزدان مغازه نماینده ژاپن در اسکار ۲۰۱۹ شد فیلم...</td>\n",
       "      <td>هنر و سینما</td>\n",
       "    </tr>\n",
       "    <tr>\n",
       "      <th>...</th>\n",
       "      <td>...</td>\n",
       "      <td>...</td>\n",
       "    </tr>\n",
       "    <tr>\n",
       "      <th>5195</th>\n",
       "      <td>امپراطوری اپ (فصل اول/بخش دوم) فصل اول – بخش د...</td>\n",
       "      <td>سلامت و زیبایی</td>\n",
       "    </tr>\n",
       "    <tr>\n",
       "      <th>5196</th>\n",
       "      <td>عدم ارتباطات اثربخش و تعارض در محیط کار وجود س...</td>\n",
       "      <td>سلامت و زیبایی</td>\n",
       "    </tr>\n",
       "    <tr>\n",
       "      <th>5197</th>\n",
       "      <td>اپل در سال ۲۰۲۰ چهار آیفون معرفی خواهد کرد! طب...</td>\n",
       "      <td>علم و تکنولوژی</td>\n",
       "    </tr>\n",
       "    <tr>\n",
       "      <th>5198</th>\n",
       "      <td>مارتینز: بلژیک باید مقابل فرانسه بدون ترس بازی...</td>\n",
       "      <td>سلامت و زیبایی</td>\n",
       "    </tr>\n",
       "    <tr>\n",
       "      <th>5199</th>\n",
       "      <td>شیائومی تاریخ عرضه‌ی گوشی گیمینگ Black Shark ۲...</td>\n",
       "      <td>علم و تکنولوژی</td>\n",
       "    </tr>\n",
       "  </tbody>\n",
       "</table>\n",
       "<p>5200 rows × 2 columns</p>\n",
       "</div>"
      ],
      "text/plain": [
       "                                                content           label\n",
       "0     فیلم‌های در حال اکران؛ موزیکال شاد خاله قورباغ...     هنر و سینما\n",
       "1     پنج فیلمسازی که کوئنتین تارانتینو را عاشق سینم...     هنر و سینما\n",
       "2     جانی آیو از اپل رفت جانی آیو دیگر نیازی به معر...  علم و تکنولوژی\n",
       "3     احتمال عدم پشتیبانی iOS ۱۳ از آیفون ۵ اس، SE و...  علم و تکنولوژی\n",
       "4     دزدان مغازه نماینده ژاپن در اسکار ۲۰۱۹ شد فیلم...     هنر و سینما\n",
       "...                                                 ...             ...\n",
       "5195  امپراطوری اپ (فصل اول/بخش دوم) فصل اول – بخش د...  سلامت و زیبایی\n",
       "5196  عدم ارتباطات اثربخش و تعارض در محیط کار وجود س...  سلامت و زیبایی\n",
       "5197  اپل در سال ۲۰۲۰ چهار آیفون معرفی خواهد کرد! طب...  علم و تکنولوژی\n",
       "5198  مارتینز: بلژیک باید مقابل فرانسه بدون ترس بازی...  سلامت و زیبایی\n",
       "5199  شیائومی تاریخ عرضه‌ی گوشی گیمینگ Black Shark ۲...  علم و تکنولوژی\n",
       "\n",
       "[5200 rows x 2 columns]"
      ]
     },
     "execution_count": 43,
     "metadata": {},
     "output_type": "execute_result"
    }
   ],
   "source": [
    "from __future__ import unicode_literals\n",
    "import pandas as pd\n",
    "import numpy as np\n",
    "from hazm import *\n",
    "import math\n",
    "import matplotlib.pyplot as plt\n",
    "import operator\n",
    "\n",
    "train_df = pd.read_csv(\"train.csv\")\n",
    "test_df = pd.read_csv(\"test.csv\")\n",
    "\n",
    "train_df"
   ]
  },
  {
   "cell_type": "code",
   "execution_count": 44,
   "id": "56feca3d",
   "metadata": {},
   "outputs": [
    {
     "data": {
      "text/html": [
       "<div>\n",
       "<style scoped>\n",
       "    .dataframe tbody tr th:only-of-type {\n",
       "        vertical-align: middle;\n",
       "    }\n",
       "\n",
       "    .dataframe tbody tr th {\n",
       "        vertical-align: top;\n",
       "    }\n",
       "\n",
       "    .dataframe thead th {\n",
       "        text-align: right;\n",
       "    }\n",
       "</style>\n",
       "<table border=\"1\" class=\"dataframe\">\n",
       "  <thead>\n",
       "    <tr style=\"text-align: right;\">\n",
       "      <th></th>\n",
       "      <th>content</th>\n",
       "      <th>label</th>\n",
       "    </tr>\n",
       "  </thead>\n",
       "  <tbody>\n",
       "    <tr>\n",
       "      <th>0</th>\n",
       "      <td>با این ۵ صبحانه رژیمی لاغر شوید صبحانه همیشه ب...</td>\n",
       "      <td>سلامت و زیبایی</td>\n",
       "    </tr>\n",
       "    <tr>\n",
       "      <th>1</th>\n",
       "      <td>نمایشگر گوشی تاشونده ال‌جی مانند بروشور باز و ...</td>\n",
       "      <td>علم و تکنولوژی</td>\n",
       "    </tr>\n",
       "    <tr>\n",
       "      <th>2</th>\n",
       "      <td>چرا برخی سلبریتی‌های هالیوودی از شبکه‌های اجتم...</td>\n",
       "      <td>هنر و سینما</td>\n",
       "    </tr>\n",
       "    <tr>\n",
       "      <th>3</th>\n",
       "      <td>گوگل استیدیا؛ آینده‌ی صنعت بازی یا محکوم به شک...</td>\n",
       "      <td>بازی ویدیویی</td>\n",
       "    </tr>\n",
       "    <tr>\n",
       "      <th>4</th>\n",
       "      <td>ویژگی جذاب گلکسی Z Flip به زودی به گوشی‌های ان...</td>\n",
       "      <td>علم و تکنولوژی</td>\n",
       "    </tr>\n",
       "    <tr>\n",
       "      <th>...</th>\n",
       "      <td>...</td>\n",
       "      <td>...</td>\n",
       "    </tr>\n",
       "    <tr>\n",
       "      <th>797</th>\n",
       "      <td>برادران داردن با فیلمی درباره افراطی‎گری به کن...</td>\n",
       "      <td>هنر و سینما</td>\n",
       "    </tr>\n",
       "    <tr>\n",
       "      <th>798</th>\n",
       "      <td>Death Stranding پر از میان‌پرده‌های طولانی است...</td>\n",
       "      <td>بازی ویدیویی</td>\n",
       "    </tr>\n",
       "    <tr>\n",
       "      <th>799</th>\n",
       "      <td>حالت نیو گیم پلاس به اسپایدرمن اضافه می‌شود چن...</td>\n",
       "      <td>بازی ویدیویی</td>\n",
       "    </tr>\n",
       "    <tr>\n",
       "      <th>800</th>\n",
       "      <td>چگونه مثل جف بزوس هک نشویم؛ ۵ توصیه امنیتی برا...</td>\n",
       "      <td>علم و تکنولوژی</td>\n",
       "    </tr>\n",
       "    <tr>\n",
       "      <th>801</th>\n",
       "      <td>چطور با مصرف ویتامین از فراموشی جلوگیری کنیم؟ ...</td>\n",
       "      <td>سلامت و زیبایی</td>\n",
       "    </tr>\n",
       "  </tbody>\n",
       "</table>\n",
       "<p>802 rows × 2 columns</p>\n",
       "</div>"
      ],
      "text/plain": [
       "                                               content           label\n",
       "0    با این ۵ صبحانه رژیمی لاغر شوید صبحانه همیشه ب...  سلامت و زیبایی\n",
       "1    نمایشگر گوشی تاشونده ال‌جی مانند بروشور باز و ...  علم و تکنولوژی\n",
       "2    چرا برخی سلبریتی‌های هالیوودی از شبکه‌های اجتم...     هنر و سینما\n",
       "3    گوگل استیدیا؛ آینده‌ی صنعت بازی یا محکوم به شک...    بازی ویدیویی\n",
       "4    ویژگی جذاب گلکسی Z Flip به زودی به گوشی‌های ان...  علم و تکنولوژی\n",
       "..                                                 ...             ...\n",
       "797  برادران داردن با فیلمی درباره افراطی‎گری به کن...     هنر و سینما\n",
       "798  Death Stranding پر از میان‌پرده‌های طولانی است...    بازی ویدیویی\n",
       "799  حالت نیو گیم پلاس به اسپایدرمن اضافه می‌شود چن...    بازی ویدیویی\n",
       "800  چگونه مثل جف بزوس هک نشویم؛ ۵ توصیه امنیتی برا...  علم و تکنولوژی\n",
       "801  چطور با مصرف ویتامین از فراموشی جلوگیری کنیم؟ ...  سلامت و زیبایی\n",
       "\n",
       "[802 rows x 2 columns]"
      ]
     },
     "execution_count": 44,
     "metadata": {},
     "output_type": "execute_result"
    }
   ],
   "source": [
    "test_df"
   ]
  },
  {
   "cell_type": "markdown",
   "id": "28dc61e9",
   "metadata": {},
   "source": [
    "## Phase 1: Data preprocessing\n",
    "Merging title and description and removing the title and description columns so our processes will be done on the new merged column named  'all'. All preprocesses are done below. We finding the numbers of each word in each class that will be needed for calculationg probability."
   ]
  },
  {
   "cell_type": "code",
   "execution_count": 45,
   "id": "18d263cb",
   "metadata": {},
   "outputs": [],
   "source": [
    "lemmatizer = Lemmatizer()\n",
    "normalizer = Normalizer()\n",
    "\n",
    "def remove_stopword_and_lemmatize(words):\n",
    "    stop_words = set(stopwords_list())\n",
    "    result = set()\n",
    "    for word in words:\n",
    "        if(word not in stop_words):\n",
    "            result.add(lemmatizer.lemmatize(word))\n",
    "    return result\n",
    "\n",
    "def remove_punctuation_and_whitespace(text):\n",
    "    counter = 0\n",
    "    punctuation = set('''?\\#$%@&^.؟؛][=*×،!-+ـ)(٪:«»<>…/_.,{};~'\"|٬٫''')\n",
    "    whitespace = {\"\\n\" , \"\\r\" , \"\\t\", \"\\u200c\"}\n",
    "    while(counter < len(text)):\n",
    "        if(text[counter] in whitespace or text[counter] in punctuation):\n",
    "            text = text[:counter] + \"\" + text[counter+1:]\n",
    "            continue\n",
    "        counter += 1\n",
    "    return word_tokenize(text)\n",
    " \n",
    "def cal_train_info(trainInfo , words , category):\n",
    "    for word in words:\n",
    "        all_categories_words.add(word)\n",
    "        train_counts[category] += 1\n",
    "        if(word in train_info[category].keys()):\n",
    "            train_info[category][word] += 1\n",
    "        else:\n",
    "            train_info[category][word] = 1\n",
    "\n",
    "train_df[\"content\"] = train_df[\"content\"].fillna(\"\")\n",
    "train_df[\"label\"] = train_df[\"label\"].fillna(\"\")\n",
    "test_df[\"content\"] = test_df[\"content\"].fillna(\"\")\n",
    "test_df[\"label\"] = test_df[\"label\"].fillna(\"\")\n",
    "\n",
    "train_df[\"content\"] = train_df[\"content\"].apply(normalizer.normalize)\n",
    "train_df[\"content\"] = train_df[\"content\"].apply(remove_punctuation_and_whitespace)\n",
    "train_df[\"content\"] = train_df[\"content\"].apply(remove_stopword_and_lemmatize)\n",
    "train_df[\"label\"] = train_df[\"label\"].apply(normalizer.normalize)\n",
    "\n",
    "test_df[\"content\"] = test_df[\"content\"].apply(normalizer.normalize)\n",
    "test_df[\"content\"] = test_df[\"content\"].apply(remove_punctuation_and_whitespace)\n",
    "test_df[\"content\"] = test_df[\"content\"].apply(remove_stopword_and_lemmatize)\n",
    "test_df[\"label\"] = test_df[\"label\"].apply(normalizer.normalize)\n",
    "\n",
    "train_counts = {\"سلامت و زیبایی\": 0 , \"علم و تکنولوژی\": 0 , \"هنر و سینما\": 0 , \"بازی ویدیویی\": 0}\n",
    "train_info = {\"سلامت و زیبایی\": {} , \"علم و تکنولوژی\": {} , \"هنر و سینما\": {} , \"بازی ویدیویی\": {}}\n",
    "all_categories_words = set()\n",
    "train_df.apply(lambda row : cal_train_info(train_info , row[\"content\"] , row[\"label\"]), axis = 1);"
   ]
  },
  {
   "cell_type": "markdown",
   "id": "9ed3efd8",
   "metadata": {},
   "source": [
    "### Question 1:\n",
    "Stemming tries to remove postfix of words to generate the main parts them but sometimes there can be some mistakes or shall we say undesired outputs. Stemming won't do the same thing as lemmatization with verbs but for noun it's partially the same.\n",
    "\n",
    "Lemmatization is a way of getting the root of words. This procedure is very useful with verbs. Also this procedure can be useful with noun. For nouns what we need is the main part of it meaning that we don't want the plural words or any other part of speech connected to it. Lemmatization will remove all these unnecessary parts and gives us the main part of each part of speech.\n",
    "\n",
    "Lemmatization usually refers to doing things properly with the use of a vocabulary and morphological analysis of words, normally aiming to remove inflectional endings only and to return the base or dictionary form of a word, which is known as the lemma. Stemming usually refers to a crude heuristic process that chops off the ends of words in the hope of achieving this goal correctly most of the time not all the time, and often includes the removal of derivational affixes."
   ]
  },
  {
   "cell_type": "markdown",
   "id": "2f21681f",
   "metadata": {},
   "source": [
    "## Phase 2: The Problem Process\n",
    "Calculating probabilities and finding the maximum probability. This part is used for finding accuracy."
   ]
  },
  {
   "cell_type": "code",
   "execution_count": 47,
   "id": "c1e11a74",
   "metadata": {},
   "outputs": [
    {
     "data": {
      "text/plain": [
       "True     766\n",
       "False     36\n",
       "Name: validity_with_additive_smoothing, dtype: int64"
      ]
     },
     "execution_count": 47,
     "metadata": {},
     "output_type": "execute_result"
    }
   ],
   "source": [
    "def cal_bayes_with_smoothing(train_info , train_vounts , test_words):\n",
    "    alpha = 0.2\n",
    "    cur_ategory = \"\"\n",
    "    p_max = float(\"-inf\"); \n",
    "    for cur_category , categoryWords in train_info.items():\n",
    "        cur_p = math.log(1/4)  \n",
    "        for test_word in test_words:\n",
    "            if(test_word not in categoryWords.keys()):\n",
    "                cur_p += math.log(alpha / (train_counts[cur_category] + alpha * len(all_categories_words) ) )\n",
    "            else:\n",
    "                cur_p += math.log((categoryWords[test_word] + alpha) / (train_counts[cur_category] + alpha * len(all_categories_words)))\n",
    "        if(p_max < cur_p ):\n",
    "            cur_ategory = cur_category\n",
    "            p_max = cur_p  \n",
    "    return cur_ategory\n",
    "\n",
    "\n",
    "test_df[\"bayes_result_with_additive_smoothing\"] = test_df.apply(lambda row : cal_bayes_with_smoothing(train_info , train_counts , row[\"content\"]) , axis = 1);\n",
    "test_df[\"validity_with_additive_smoothing\"] = np.where(test_df[\"label\"] == test_df[\"bayes_result_with_additive_smoothing\"], True, False)\n",
    "test_df[\"validity_with_additive_smoothing\"].value_counts()"
   ]
  },
  {
   "cell_type": "code",
   "execution_count": 48,
   "id": "f77d0e9b",
   "metadata": {},
   "outputs": [
    {
     "data": {
      "text/plain": [
       "False    713\n",
       "True      89\n",
       "Name: validity_without_additive_smoothing, dtype: int64"
      ]
     },
     "execution_count": 48,
     "metadata": {},
     "output_type": "execute_result"
    }
   ],
   "source": [
    "def cal_bayes(train_info , train_counts , test_words):\n",
    "    cur_ategory = \"personal\"\n",
    "    p_max = float(\"-inf\")\n",
    "    for cur_category , categoryWords in train_info.items():      \n",
    "        cur_p = math.log(1/4) \n",
    "        for test_word in test_words:\n",
    "            if(test_word not in categoryWords.keys()):\n",
    "                cur_p += float(\"-inf\") \n",
    "            else:\n",
    "                cur_p += math.log(categoryWords[test_word] / train_counts[cur_category])\n",
    "        if(p_max < cur_p):\n",
    "            cur_ategory = cur_category\n",
    "            p_max = cur_p       \n",
    "    return cur_ategory\n",
    "\n",
    "test_df[\"bayes_result_without_additive_smoothing\"] = test_df.apply(lambda row : cal_bayes(train_info , train_counts , row[\"content\"]), axis = 1);\n",
    "test_df[\"validity_without_additive_smoothing\"] = np.where(test_df[\"label\"] == test_df[\"bayes_result_without_additive_smoothing\"], True, False)\n",
    "test_df[\"validity_without_additive_smoothing\"].value_counts()"
   ]
  },
  {
   "cell_type": "markdown",
   "id": "928ac63a",
   "metadata": {},
   "source": [
    "### Question 2:\n",
    "Posterior: Probability of a word belonging to the mentioned categories given the word. We can decide the category of a text or in other words a new set of words by comparing this probability for our 6 categories.\n",
    "\n",
    "Prior: Probabilty of the category occurrence in general. This value can be calculated or simply be 1/6 meaning that we'll assign equal probability to occurrence of each category.\n",
    "\n",
    "Likelihood: It's the probability of a word occurring given the category. So it's the number of that word occurring in one of the categories divided by the number of all the words in the same category.\n",
    "\n",
    "Evidence: Probability of the word itself which is the number of that word occurring in the dataset. Because this number is independent of the class and we are going to compare probability of the classes given the same words this number would be the same in both sides of the comparison so we can ignore it and never calculate it meaning that here we can calculate and compare everything without this value."
   ]
  },
  {
   "cell_type": "markdown",
   "id": "a4b3c546",
   "metadata": {},
   "source": [
    "### Question 3:\n",
    "The best we can do is to fight back and bring in sky high success. The sky is beautiful today.\n",
    "\n",
    "Since the report is in English, English examples are provided\n",
    "\n",
    "Here the word sky can show the need for bigrams or n-grams clearly. By using unigrams, in both of the examples the sky will mean as the blue sky above us. Although this meaning is correct for the second sentence, there's a different situation in the first sentence. In the fisrt one, sky is an adverb for the word high and simply means very. So the only way we can correctly guess the meaning of the word is by using n-grams and showing that the there words sky, high and success are dependent. In the mentioned example bigrams aren't adequate since it'll only give us sky high, we know that this is and adjective but we still don't know to what word so using 3-grams will do the trick."
   ]
  },
  {
   "cell_type": "markdown",
   "id": "7eac8cb5",
   "metadata": {},
   "source": [
    "### Question 4:\n",
    "In case that there is word contained only one type of category, Naive Bayes will definetly choose that category as the answer which might be wrong in some cases. If a word doesn't exist in the dataset of a category,  we have that $P(x|c) = 0$\n",
    "The reason is that $log(0) = - \\infty$ so the sum $ sum_{i=1}^{n} log(P(x_i | c)) $ will converge to $- \\infty$ so the probability of that category will be zero and since we are multiplying p by this words probability which is 0 or in another way getting log of a zero which will return -inf therefore that test data will definitely be classified in one of the other categories because of that one and only word. Since here we're using log for calculation the result will be -inf and according to the code that category certainly won't be selected. When word $x$ hasn't appeared in genre $c$, and never will be chosen as the genre since wre choosing the genre which maximizes the sum mentioned above."
   ]
  },
  {
   "cell_type": "markdown",
   "id": "7aba1207",
   "metadata": {},
   "source": [
    "### Question 5:\n",
    "Additive smoothing is a technique for smoothing categorical data. In additive smoothing we are trying to prevent zero probability. A small-sample correction will be incorporated in every probability estimate. Consequently, no probability will be zero and this really comes in handy since there can be new words in the test dataset that we haven't seen in the train dataset, this is a way of regularizing Naive Bayes.\n",
    "\n",
    "This'll be achieved by changing the way we calculate probability of each word given the class. By adding alpha which is greater zero it's guaranteed that the probability for each word won't be zero:\n",
    "\n",
    "$$ p(word|class) = \\frac{word + \\alpha}{N + \\alpha.D} $$\n",
    "\n",
    "* alpha is coefficient that is greater than zero and usually less than 1.\n",
    "* N is all words in that particular class.\n",
    "* D is number of possible words in all 6 categories (without the duplicates meaning that all the words are unique)"
   ]
  },
  {
   "cell_type": "markdown",
   "id": "76589e30",
   "metadata": {},
   "source": [
    "### Verification"
   ]
  },
  {
   "cell_type": "markdown",
   "id": "0bb193a9",
   "metadata": {},
   "source": [
    "### Question 6:"
   ]
  },
  {
   "cell_type": "code",
   "execution_count": 49,
   "id": "154fcc9e",
   "metadata": {},
   "outputs": [
    {
     "data": {
      "image/png": "[encoded data removed]",
      "text/plain": [
       "<Figure size 432x288 with 1 Axes>"
      ]
     },
     "metadata": {
      "needs_background": "light"
     },
     "output_type": "display_data"
    },
    {
     "data": {
      "image/png": "[encoded data removed]",
      "text/plain": [
       "<Figure size 432x288 with 1 Axes>"
      ]
     },
     "metadata": {
      "needs_background": "light"
     },
     "output_type": "display_data"
    },
    {
     "data": {
      "image/png": "[encoded data removed]",
      "text/plain": [
       "<Figure size 432x288 with 1 Axes>"
      ]
     },
     "metadata": {
      "needs_background": "light"
     },
     "output_type": "display_data"
    },
    {
     "data": {
      "image/png": "[encoded data removed]",
      "text/plain": [
       "<Figure size 432x288 with 1 Axes>"
      ]
     },
     "metadata": {
      "needs_background": "light"
     },
     "output_type": "display_data"
    }
   ],
   "source": [
    "for cur_category in train_info.keys():\n",
    "    fig = plt.figure()\n",
    "    train_info_with_sort = dict(sorted(train_info[cur_category].items(), key=operator.itemgetter(1), reverse=True)[:5])\n",
    "    words = [word for word in train_info_with_sort.keys()]\n",
    "    numbers = [num for num in train_info_with_sort.values()]\n",
    "    ax = fig.add_axes([0,0,1,1])\n",
    "    ax.bar(words , numbers)\n",
    "    ax.set_title(cur_category)\n",
    "    plt.show()"
   ]
  },
  {
   "cell_type": "markdown",
   "id": "de6c1b25",
   "metadata": {},
   "source": [
    "## Phase 3: Evaluation"
   ]
  },
  {
   "cell_type": "markdown",
   "id": "b357775b",
   "metadata": {},
   "source": [
    "### Question 7:\n",
    "Precision can be seen as a measure of exactness or quality but recall is a measure of completeness or quantity meaning high precision shows that an algorithm returned substantially more relevant results than irrelevant ones but high recall means that an algorithm returned most of the relevant results.\n",
    "\n",
    "For example lets assume that we are creating a model to classify banking transactions into Fraud and Not Fraud classes.\n",
    "ussually there is a little percent of fraud transactions in the whole transactions data.\n",
    "\n",
    "Recall = frauds correctly identified / (frauds correctly identified + frauds incorrectly labeled as not frauds)\n",
    "\n",
    "Lets assume that our model lablels every transaction as fraud so according to the earlier equation we have a recall of 100%\n",
    "But obiously this is not a good model because we are false labeling lots of none fraud transactions and interrupt them. And according to the Precision formula:\n",
    "\n",
    "Precision = frauds correctly identified / (frauds correctly identified + transactions incorrectly labeled as fraud)\n",
    "\n",
    "We see that we are getting a really low precision but a high recall and its not a good model."
   ]
  },
  {
   "cell_type": "markdown",
   "id": "4a98e269",
   "metadata": {},
   "source": [
    "### Question 8:\n",
    "The F1 score is the harmonic mean of the precision and recall.The highest possible value of an F-score is 1, indicating perfect precision and recall, and the lowest possible value is 0, if either the precision or the recall is zero. We use this mean method so a model with recall 100% and precision 0% gets a low score. And punishes the extreme value that was high at the cost of the other value.\n",
    "If we used the normal mean equation we will end up on a value that is higher and its not a good metric because we don't want both of precision and recall to be more than a certain threshold. \n",
    "The F1 score kinda combines recall and precision and it's a better score to meausure our model predictions."
   ]
  },
  {
   "cell_type": "markdown",
   "id": "a024ff3e",
   "metadata": {},
   "source": [
    "### Question 9:\n",
    "* Macro: computess F1 for each label, and returns the average without considering the proportion for each label in the dataset.\n",
    "* Micro: computes F1 by value total true positives, false negatives and false positives (no matter of the prediction for each label in the dataset)\n",
    "* Weighted: computes F1 for each label, and returns the average considering the proportion for each label in the dataset."
   ]
  },
  {
   "cell_type": "markdown",
   "id": "e1c7596d",
   "metadata": {},
   "source": [
    "### Question 10:"
   ]
  },
  {
   "cell_type": "markdown",
   "id": "37aa01b7",
   "metadata": {},
   "source": [
    "for each class:\n",
    "* Precision  = number of correct predictions / all predictions of that class\n",
    "\n",
    "* recall = number of correct predictions / all actual data of that class\n",
    "\n",
    "accuracy = number of correct predictions in total / all data"
   ]
  },
  {
   "cell_type": "markdown",
   "id": "2e731438",
   "metadata": {},
   "source": [
    "#### Part A: With additive smoothing"
   ]
  },
  {
   "cell_type": "code",
   "execution_count": 50,
   "id": "8c711d36",
   "metadata": {
    "scrolled": true
   },
   "outputs": [
    {
     "name": "stdout",
     "output_type": "stream",
     "text": [
      "* سلامت و زیبایی *\n",
      "Precision: 95.06172839506173%  \n",
      "Recall: 95.65217391304348%  \n",
      "F1: 95.3560371517028% \n",
      "\n",
      "* بازی ویدیویی *\n",
      "Precision: 96.35416666666666%  \n",
      "Recall: 93.90862944162437%  \n",
      "F1: 95.11568123393317% \n",
      "\n",
      "* علم و تکنولوژی *\n",
      "Precision: 96.0431654676259%  \n",
      "Recall: 96.38989169675091%  \n",
      "F1: 96.21621621621621% \n",
      "\n",
      "* هنر و سینما *\n",
      "Precision: 94.11764705882352%  \n",
      "Recall: 95.80838323353294%  \n",
      "F1: 94.95548961424332% \n",
      "\n",
      "Accuracy: 95.51122194513717%\n",
      "True     766\n",
      "False     36\n",
      "Name: validity_with_additive_smoothing, dtype: int64\n"
     ]
    },
    {
     "data": {
      "image/png": "[encoded data removed]",
      "text/plain": [
       "<Figure size 720x360 with 1 Axes>"
      ]
     },
     "metadata": {
      "needs_background": "light"
     },
     "output_type": "display_data"
    },
    {
     "data": {
      "image/png": "[encoded data removed]",
      "text/plain": [
       "<Figure size 720x360 with 1 Axes>"
      ]
     },
     "metadata": {
      "needs_background": "light"
     },
     "output_type": "display_data"
    },
    {
     "data": {
      "image/png": "[encoded data removed]",
      "text/plain": [
       "<Figure size 720x360 with 1 Axes>"
      ]
     },
     "metadata": {
      "needs_background": "light"
     },
     "output_type": "display_data"
    }
   ],
   "source": [
    "precisions =  {\"سلامت و زیبایی\": 0 , \"علم و تکنولوژی\": 0 , \"هنر و سینما\": 0 , \"بازی ویدیویی\": 0}\n",
    "recalls =  {\"سلامت و زیبایی\": 0 , \"علم و تکنولوژی\": 0 , \"هنر و سینما\": 0 , \"بازی ویدیویی\": 0}\n",
    "F1s =  {\"سلامت و زیبایی\": 0 , \"علم و تکنولوژی\": 0 , \"هنر و سینما\": 0 , \"بازی ویدیویی\": 0}\n",
    "numAcutalData =  {\"سلامت و زیبایی\": 0 , \"علم و تکنولوژی\": 0 , \"هنر و سینما\": 0 , \"بازی ویدیویی\": 0}\n",
    "categoriesNames = set(test_df[\"label\"])\n",
    "\n",
    "for cur_category in categoriesNames:\n",
    "    num_acutal_data = 0\n",
    "    num_preds = 0\n",
    "    correct_preds = 0\n",
    "    for i in range(len(test_df)):\n",
    "        if(test_df.loc[i , \"bayes_result_with_additive_smoothing\"] == cur_category):\n",
    "            num_preds += 1\n",
    "        if(test_df.loc[i , \"label\"] == cur_category):\n",
    "            num_acutal_data += 1\n",
    "            if(test_df.loc[i , \"label\"] == test_df.loc[i , \"bayes_result_with_additive_smoothing\"]):\n",
    "                correct_preds += 1\n",
    "    precisions[cur_category] = (correct_preds / num_preds) * 100\n",
    "    numAcutalData[cur_category] = num_acutal_data\n",
    "    recalls[cur_category] = (correct_preds / num_acutal_data) * 100\n",
    "    F1s[cur_category] = 2 * (precisions[cur_category] * recalls[cur_category]) / (precisions[cur_category] + recalls[cur_category])\n",
    "    \n",
    "for cur_category in categoriesNames:\n",
    "    print(\"* \" + cur_category + \" *\")\n",
    "    print(\"Precision: \" + str(precisions[cur_category]) + \"%  \\nRecall: \" + str(recalls[cur_category]) + \\\n",
    "          \"%  \\nF1: \" + str(F1s[cur_category]) + \"% \\n\")\n",
    "\n",
    "print(\"Accuracy: \" + str((test_df[\"validity_with_additive_smoothing\"].value_counts()[1] / len(test_df)) * 100) + \"%\")\n",
    "print(test_df[\"validity_with_additive_smoothing\"].value_counts())\n",
    "\n",
    "fig = plt.figure(figsize=(10, 5))\n",
    "ax = fig.add_axes([0,0,1,1])\n",
    "ax.set_title(\"Precisions\")\n",
    "categories = list(categoriesNames)\n",
    "numbers = list(precisions.values())\n",
    "ax.bar(categories , numbers)\n",
    "plt.show()\n",
    "\n",
    "fig = plt.figure(figsize=(10, 5))\n",
    "ax = fig.add_axes([0,0,1,1])\n",
    "ax.set_title(\"Recalls\")\n",
    "categories = list(categoriesNames)\n",
    "numbers = list(recalls.values())\n",
    "ax.bar(categories , numbers)\n",
    "plt.show()\n",
    "\n",
    "fig = plt.figure(figsize=(10, 5))\n",
    "ax = fig.add_axes([0,0,1,1])\n",
    "ax.set_title(\"F1s\")\n",
    "categories = list(categoriesNames)\n",
    "numbers = list(F1s.values())\n",
    "ax.bar(categories , numbers)\n",
    "plt.show()"
   ]
  },
  {
   "cell_type": "markdown",
   "id": "43e1416b",
   "metadata": {},
   "source": [
    "macro average : normal average\n",
    "\n",
    "weighted average : each percentage is multiplied by the number of acutal data of that class\n",
    "\n",
    "micro average : In our case all precision, recall and F1 will be equal to accuracy"
   ]
  },
  {
   "cell_type": "code",
   "execution_count": 51,
   "id": "b07cff84",
   "metadata": {},
   "outputs": [
    {
     "name": "stdout",
     "output_type": "stream",
     "text": [
      "Macro Average Precision: 95.39417689704445%\n",
      "Macro Average Recall: 95.43976957123793%\n",
      "Macro Average F1: 95.41085605402388%\n"
     ]
    },
    {
     "data": {
      "image/png": "[encoded data removed]",
      "text/plain": [
       "<Figure size 432x288 with 1 Axes>"
      ]
     },
     "metadata": {
      "needs_background": "light"
     },
     "output_type": "display_data"
    }
   ],
   "source": [
    "macroAvgPrecision = sum(precisions.values()) / len(categoriesNames)\n",
    "macroAvgRecall = sum(recalls.values()) / len(categoriesNames)\n",
    "macroAvgF1 = sum(F1s.values()) / len(categoriesNames)\n",
    "print(\"Macro Average Precision: \" + str(macroAvgPrecision) + \"%\")\n",
    "print(\"Macro Average Recall: \" + str(macroAvgRecall) + \"%\")\n",
    "print(\"Macro Average F1: \" + str(macroAvgF1) + \"%\")\n",
    "fig = plt.figure()\n",
    "ax = fig.add_axes([0,0,1,1])\n",
    "ax.set_title(\"Evaluation Results\")\n",
    "words = [\"Precision\" , \"Recall\" , \"F1\"]\n",
    "numbers = [macroAvgPrecision , macroAvgRecall , macroAvgF1]\n",
    "ax.bar(words , numbers)\n",
    "plt.show()"
   ]
  },
  {
   "cell_type": "code",
   "execution_count": 52,
   "id": "771afd6b",
   "metadata": {
    "scrolled": true
   },
   "outputs": [
    {
     "name": "stdout",
     "output_type": "stream",
     "text": [
      "Weighted Average Precision: 95.52158727966855%\n",
      "Weighted Average Recall: 95.51122194513715%\n",
      "Weighted Average F1: 95.51068558850312%\n"
     ]
    },
    {
     "data": {
      "image/png": "[encoded data removed]",
      "text/plain": [
       "<Figure size 432x288 with 1 Axes>"
      ]
     },
     "metadata": {
      "needs_background": "light"
     },
     "output_type": "display_data"
    }
   ],
   "source": [
    "weightedAvgPrecision = 0; weightedAvgRecall = 0; weightedAvgF1 = 0\n",
    "for category in categoriesNames:\n",
    "    weightedAvgPrecision += (numAcutalData[category] * precisions[category])\n",
    "    weightedAvgRecall += (numAcutalData[category] * recalls[category])\n",
    "    weightedAvgF1 += (numAcutalData[category] * F1s[category]) \n",
    "weightedAvgPrecision /= len(test_df)\n",
    "weightedAvgRecall /= len(test_df)\n",
    "weightedAvgF1 /= len(test_df)\n",
    "print(\"Weighted Average Precision: \" + str(weightedAvgPrecision) + \"%\")\n",
    "print(\"Weighted Average Recall: \" + str(weightedAvgRecall) + \"%\")\n",
    "print(\"Weighted Average F1: \" + str(weightedAvgF1) + \"%\")\n",
    "fig = plt.figure()\n",
    "ax = fig.add_axes([0,0,1,1])\n",
    "ax.set_title(\"Evaluation Results\")\n",
    "words = [\"Precision\" , \"Recall\" , \"F1\"]\n",
    "numbers = [weightedAvgPrecision , weightedAvgRecall , weightedAvgF1]\n",
    "ax.bar(words , numbers)\n",
    "plt.show()"
   ]
  },
  {
   "cell_type": "code",
   "execution_count": 53,
   "id": "86e8840c",
   "metadata": {},
   "outputs": [
    {
     "name": "stdout",
     "output_type": "stream",
     "text": [
      "Micro Average Precision = Micro Average Recall = Micro Average F1 = accuracy = 95.51122194513717%\n"
     ]
    }
   ],
   "source": [
    "accuracy = str((test_df[\"validity_with_additive_smoothing\"].value_counts()[1] / len(test_df)) * 100)\n",
    "print(\"Micro Average Precision = Micro Average Recall = Micro Average F1 = accuracy = \" + accuracy + \"%\")"
   ]
  },
  {
   "cell_type": "markdown",
   "id": "e8643979",
   "metadata": {},
   "source": [
    "#### Part B: without additive smoothing"
   ]
  },
  {
   "cell_type": "code",
   "execution_count": 54,
   "id": "5d6d8dbc",
   "metadata": {},
   "outputs": [
    {
     "name": "stdout",
     "output_type": "stream",
     "text": [
      "* سلامت و زیبایی *\n",
      "Precision: 92.3076923076923%  \n",
      "Recall: 7.453416149068323%  \n",
      "F1: 13.793103448275861% \n",
      "\n",
      "* بازی ویدیویی *\n",
      "Precision: 100.0%  \n",
      "Recall: 17.766497461928935%  \n",
      "F1: 30.17241379310345% \n",
      "\n",
      "* علم و تکنولوژی *\n",
      "Precision: 96.42857142857143%  \n",
      "Recall: 9.747292418772563%  \n",
      "F1: 17.704918032786885% \n",
      "\n",
      "* هنر و سینما *\n",
      "Precision: 88.23529411764706%  \n",
      "Recall: 8.982035928143713%  \n",
      "F1: 16.304347826086957% \n",
      "\n",
      "Accuracy: 11.097256857855362%\n",
      "False    713\n",
      "True      89\n",
      "Name: validity_without_additive_smoothing, dtype: int64\n"
     ]
    },
    {
     "data": {
      "image/png": "[encoded data removed]",
      "text/plain": [
       "<Figure size 720x360 with 1 Axes>"
      ]
     },
     "metadata": {
      "needs_background": "light"
     },
     "output_type": "display_data"
    },
    {
     "data": {
      "image/png": "[encoded data removed]",
      "text/plain": [
       "<Figure size 720x360 with 1 Axes>"
      ]
     },
     "metadata": {
      "needs_background": "light"
     },
     "output_type": "display_data"
    },
    {
     "data": {
      "image/png": "[encoded data removed]",
      "text/plain": [
       "<Figure size 720x360 with 1 Axes>"
      ]
     },
     "metadata": {
      "needs_background": "light"
     },
     "output_type": "display_data"
    }
   ],
   "source": [
    "for cur_category in categoriesNames:\n",
    "    num_acutal_data = 0\n",
    "    num_preds = 0\n",
    "    correct_preds = 0\n",
    "    for i in range(len(test_df)):\n",
    "        if(test_df.loc[i , \"bayes_result_without_additive_smoothing\"] == cur_category):\n",
    "            num_preds += 1\n",
    "        if(test_df.loc[i , \"label\"] == cur_category):\n",
    "            num_acutal_data += 1\n",
    "            if(test_df.loc[i , \"label\"] == test_df.loc[i , \"bayes_result_without_additive_smoothing\"]):\n",
    "                correct_preds += 1    \n",
    "    precisions[cur_category] = (correct_preds / num_preds) * 100\n",
    "    numAcutalData[cur_category] = num_acutal_data\n",
    "    recalls[cur_category] = (correct_preds / num_acutal_data) * 100\n",
    "    F1s[cur_category] = 2 * (precisions[cur_category] * recalls[cur_category]) / (precisions[cur_category] + recalls[cur_category])\n",
    "\n",
    "for cur_category in categoriesNames:\n",
    "    print(\"* \" + cur_category + \" *\")\n",
    "    print(\"Precision: \" + str(precisions[cur_category]) + \"%  \\nRecall: \" + str(recalls[cur_category]) + \\\n",
    "          \"%  \\nF1: \" + str(F1s[cur_category]) + \"% \\n\")\n",
    "\n",
    "print(\"Accuracy: \" + str((test_df[\"validity_without_additive_smoothing\"].value_counts()[1] / len(test_df)) * 100) + \"%\")\n",
    "print(test_df[\"validity_without_additive_smoothing\"].value_counts())\n",
    "\n",
    "fig = plt.figure(figsize=(10, 5))\n",
    "ax = fig.add_axes([0,0,1,1])\n",
    "ax.set_title(\"Precisions\")\n",
    "words = list(categoriesNames)\n",
    "numbers = list(precisions.values())\n",
    "ax.bar(words , numbers)\n",
    "plt.show()\n",
    "\n",
    "fig = plt.figure(figsize=(10, 5))\n",
    "ax = fig.add_axes([0,0,1,1])\n",
    "ax.set_title(\"Recalls\")\n",
    "words = list(categoriesNames)\n",
    "numbers = list(recalls.values())\n",
    "ax.bar(words , numbers)\n",
    "plt.show()\n",
    "\n",
    "fig = plt.figure(figsize=(10, 5))\n",
    "ax = fig.add_axes([0,0,1,1])\n",
    "ax.set_title(\"F1s\")\n",
    "words = list(categoriesNames)\n",
    "numbers = list(F1s.values())\n",
    "ax.bar(words , numbers)\n",
    "plt.show()\n"
   ]
  },
  {
   "cell_type": "code",
   "execution_count": 55,
   "id": "60b4724c",
   "metadata": {},
   "outputs": [
    {
     "name": "stdout",
     "output_type": "stream",
     "text": [
      "Macro Average Precision: 94.2428894634777%\n",
      "Macro Average Recall: 10.987310489478382%\n",
      "Macro Average F1: 19.493695775063287%\n"
     ]
    },
    {
     "data": {
      "image/png": "[encoded data removed]",
      "text/plain": [
       "<Figure size 432x288 with 1 Axes>"
      ]
     },
     "metadata": {
      "needs_background": "light"
     },
     "output_type": "display_data"
    }
   ],
   "source": [
    "macroAvgPrecision = sum(precisions.values()) / len(categoriesNames)\n",
    "macroAvgRecall = sum(recalls.values()) / len(categoriesNames)\n",
    "macroAvgF1 = sum(F1s.values()) / len(categoriesNames)\n",
    "print(\"Macro Average Precision: \" + str(macroAvgPrecision) + \"%\")\n",
    "print(\"Macro Average Recall: \" + str(macroAvgRecall) + \"%\")\n",
    "print(\"Macro Average F1: \" + str(macroAvgF1) + \"%\")\n",
    "fig = plt.figure()\n",
    "ax = fig.add_axes([0,0,1,1])\n",
    "ax.set_title(\"Evaluation Results\")\n",
    "words = [\"Precision\" , \"Recall\" , \"F1\"]\n",
    "numbers = [macroAvgPrecision , macroAvgRecall , macroAvgF1]\n",
    "ax.bar(words , numbers)\n",
    "plt.show()"
   ]
  },
  {
   "cell_type": "code",
   "execution_count": 56,
   "id": "6535440a",
   "metadata": {},
   "outputs": [
    {
     "name": "stdout",
     "output_type": "stream",
     "text": [
      "Weighted Average Precision: 94.77250232531148%\n",
      "Weighted Average Recall: 11.097256857855362%\n",
      "Weighted Average F1: 19.690453309790875%\n"
     ]
    },
    {
     "data": {
      "image/png": "[encoded data removed]",
      "text/plain": [
       "<Figure size 432x288 with 1 Axes>"
      ]
     },
     "metadata": {
      "needs_background": "light"
     },
     "output_type": "display_data"
    }
   ],
   "source": [
    "weightedAvgPrecision = 0; weightedAvgRecall = 0; weightedAvgF1 = 0\n",
    "for category in categoriesNames:\n",
    "    weightedAvgPrecision += (numAcutalData[category] * precisions[category])\n",
    "    weightedAvgRecall += (numAcutalData[category] * recalls[category])\n",
    "    weightedAvgF1 += (numAcutalData[category] * F1s[category])    \n",
    "weightedAvgPrecision /= len(test_df)\n",
    "weightedAvgRecall /= len(test_df)\n",
    "weightedAvgF1 /= len(test_df)\n",
    "print(\"Weighted Average Precision: \" + str(weightedAvgPrecision) + \"%\")\n",
    "print(\"Weighted Average Recall: \" + str(weightedAvgRecall) + \"%\")\n",
    "print(\"Weighted Average F1: \" + str(weightedAvgF1) + \"%\")\n",
    "fig = plt.figure()\n",
    "ax = fig.add_axes([0,0,1,1])\n",
    "ax.set_title(\"Evaluation Results\")\n",
    "words = [\"Precision\" , \"Recall\" , \"F1\"]\n",
    "numbers = [weightedAvgPrecision , weightedAvgRecall , weightedAvgF1]\n",
    "ax.bar(words , numbers)\n",
    "plt.show()"
   ]
  },
  {
   "cell_type": "code",
   "execution_count": 57,
   "id": "957c31de",
   "metadata": {},
   "outputs": [
    {
     "name": "stdout",
     "output_type": "stream",
     "text": [
      "Micro Average Precision = Micro Average Recall = Micro Average F1 = accuracy = 11.097256857855362%\n"
     ]
    }
   ],
   "source": [
    "accuracy = str((test_df[\"validity_without_additive_smoothing\"].value_counts()[1] / len(test_df)) * 100)\n",
    "print(\"Micro Average Precision = Micro Average Recall = Micro Average F1 = accuracy = \" + accuracy + \"%\")"
   ]
  },
  {
   "cell_type": "markdown",
   "id": "a35de1d6",
   "metadata": {},
   "source": [
    "### Question 11:\n",
    "According to the results we got in the previous part, it is obvious that using additive smoothing and preprocessing will lead us to a greater accuracy, that's because in this case our model calculates the result based on every word and if a word is not in the train set it will not be able to cause the whole line probability to be zero. Since without additive smoothing we have the mentioned problem with 0, or if we're using log -inf, probability there would be low accuracy. But by using additive smoothing we got rid of that problem so we would have much higher number in evaluation. Precision values in the case of not having additive smoothing clearly shows the mentioned notes previously that having higher precision doesn't simply mean good modeling. Also we're looking for the highest possible precision and recall although they have reversed relation but in case of not having additive smoothing we clearly see that precision is high but recall is much lower so we understand that the modeling isn't great. Taking a look at case of having additive smothing, we can see that all three evalutation results are not only high but also they are close to each other that is a clear sign of a nice model. As it can be seen both additive smoothing and preprocessing have increased the acuuracy, so we can conclude that we have used a good way to preprocess our data."
   ]
  },
  {
   "cell_type": "markdown",
   "id": "00757256",
   "metadata": {},
   "source": [
    "### Question 12:\n",
    "Naive Bayes assumes the features are independent, the probabilities are incorrect if this assumption is not correct. We are not looking at the text as a whole but instead we break the text get some info out of it and do calculations but breaking the text and not looking at it as whole will remove the relations so we'll lose some useful info. Finding the relations and adding it to our info will provide us with more evidence and so this can help us predict better.\n",
    "we are analyzing texts here so the input features are dependent, and the target depends on some higher order structure hidden in the features."
   ]
  },
  {
   "cell_type": "code",
   "execution_count": 62,
   "id": "28293c70",
   "metadata": {},
   "outputs": [
    {
     "name": "stdout",
     "output_type": "stream",
     "text": [
      "\n",
      "\n",
      "{'نوکیا', 'میگوید', 'قیمت', 'میخواهد', '۶۰', 'بازیگر', 'کار', 'درجه', 'Ubergizmo', 'مختص', 'میکروفون', '۳۶۰', 'قدرتمند', 'همکار', 'آماتور', 'ویدیو', 'فیلمبرداران', 'مثال', 'OZO', 'جنگل', 'ضبط', 'کمک', 'جدید', 'دستگاه', 'متعلقاتاش', 'پستولید', 'Book', 'انتخاب', 'زمان', 'استودیو', 'واقعیت', 'صدا', 'Jungle', 'سنسور', 'گذشته', 'پیشنمایش', 'سال', 'تصویر', 'اسم', 'دلاریاش', 'هزینه', 'هشت', 'شرکت', 'بلند', 'فیلمبردارهای', 'VR', 'حرف', 'میکاهد', 'میسازد', 'ساخت#ساز', 'صورت', 'تصویربرداری', 'هزار', 'مجاز', 'داخل', 'قابلیت', 'سهبعدی', 'کتاب', 'طراح', 'فیلمسازی', 'دیزنی', 'بیسیم', 'توانایی', 'دوربین', 'قرار', 'مراحل', 'هدستهای', 'نمیخورد', 'استفاده', 'اصلا', 'فیلم', 'گفت#گو', 'ساخت', 'فرستاد#فرست', 'محتوا', 'منبع', 'کوتاهتری', 'رونما', 'درد', 'اخیرا', 'تجربه', 'میتواند'}\n",
      "Actual Category: هنر و سینما\n",
      "Predicted Category: بازی ویدیویی\n",
      "\n",
      "\n",
      "{'میگوید', 'قیمت', 'ادامه', '۵۴۹', 'گران', 'ده', 'گیگاهرتزفرکانس', 'Gigabyte', 'ویرایش', 'گیگاهرتزانرژی', '۳۹۹', 'کار', '۳۱', '۱۸۰', 'فراموش', '۱۹۵۰', 'شرط', 'میخواهند', 'بار', 'جزییات', 'MSI', 'Threadripper', 'sTR۴', 'اطلاعات', 'Xتعداد', 'Core', 'سنگین', 'رفت#رو', 'چیپستهای', '۳۲۲۴۱۶', 'قیمتقیمت', '۴۰', 'تاریخ', 'قو', 'نرمافزار', 'عبارت', 'برنامه', 'ویدیو', '۱۲', 'عملکرد', 'کردهاند', '۷۹۰۰', 'RX', 'کوتاه', 'مدلهامیدانستیم', 'آگوست', 'مادربرد', 'هستهای', 'میتوان', 'دسکتاپ', 'Asus', 'مختلف', 'ماشینی', 'سوکت', 'میخواهید', 'شدهاند', 'جدید', 'کرد#کن', 'x', 'اصل', 'باز', 'اشاره', '۱۹۲۰', 'واقعا', 'i', 'واتپردازندهی', 'نرمافزارهای', 'آنلاک', '۳۴', 'استر', 'بزرگ', 'بازار', 'همزمان', '۱۰۰۰', 'حالت', 'میتوانید', '۱۶', 'ساخته', 'روز', 'رساند#رسان', 'ارایه', 'کیفیت', 'تر', '۷۹۹', '۹۷۹۰۰', 'اورکلاک', 'پشتیبان', 'مصرف', 'Asrock', 'بوست', 'موضوع', 'X', 'میکنند', '۳۵', '۴۲', 'هشت', 'شرکت', 'خنک', 'خبر', '۱۶۱۲۸', 'درصد', '۳۸', 'هسته', 'مدل', 'بازیساز', 'تخصص', '۹۹۹', 'بنچمارکها', 'عرضه', '۶۴۶۴۶۴', 'لاین', 'ارزان', 'PCIe', 'صرفا', 'ضعیف', 'اینتل', 'مادربردهای', 'مشخصاتمشخصات', 'وات', 'عرضهدو', 'فرکانس', 'سیستم', 'سراغ', 'امروز', 'دلاراگر', 'آماده', 'قرار', 'پایه', 'Ryzen', 'مدلها', 'استفاده', 'نگاه', 'AMD', 'عملکردشرکت', 'کارت', 'کننده', 'معرف', 'تنظیم', 'داشت#دار', 'دلار', '۱۹۰۰', 'سری', 'بازی', 'پیشخرید', 'گیگاهرتز', 'انجام', 'Vega', 'گیمرهایی', '۱۱', 'کنفرانس', 'پردازنده', 'گرافیکی'}\n",
      "Actual Category: بازی ویدیویی\n",
      "Predicted Category: علم و تکنولوژی\n",
      "\n",
      "\n",
      "{'درگیر', 'نابودی', 'نقد', 'مسیر', 'خونریزی', 'دوا', 'فورت', 'مخفیگاه', 'تجهیزات', 'خلافکاری', 'میشود', 'فراهم', 'کشید#کش', 'وفادار', 'اطلاعات', 'توجه', 'گنگ', 'همسر', 'دنیا', 'جک', 'قدرتمند', 'رایت', 'مجروح', 'کردهاند', 'جزییاتتری', 'شدت', 'سرگذشت', 'مامور', 'میگیرند', 'بیرحمانه', 'تنهایی', 'ورود', 'پدر', 'واقعا', 'مارستونجان', 'دوئلجان', 'نجات', 'مردم', 'زمان', 'موفق', 'وظیفه', 'شکار', 'راس', 'رساند#رسان', 'برخورده', 'تیر', 'نقطه', 'میرساند', 'مکزیکدومین', 'دستخوش', 'انتقام', 'مرد#میر', 'نیاز', 'چندین', 'ماموریت', 'سابق', '۲', 'کشت#کش', 'پسر', 'عرضه', 'ظالمانه', 'دائما', 'جان', 'افراد', 'حکم', 'داستان', 'فهماند', 'شکل', 'پیشنهاد', 'حمله', 'میدهد', 'قتل', 'برخورد', 'مقابل', 'میکرد', 'آرامش', 'فرزند', 'وقایع', 'غرب', 'صبر', 'تیم', 'استفاده', 'تحقق', 'داچ', 'انتفام', 'مکفارلن', 'ماندن', 'خلافکار', 'مناسب', 'نمیآینداین', 'خود', 'لیند', 'تجربه', 'آمریکا', 'عنوان', 'ادامه', 'فرصت', 'خانهبالاخره', 'پرداخت', 'Dead', 'اولیه', 'آغاز', 'صلح', 'رفت#رو', 'تعداد', 'هارولد', 'مارستون', 'دانستن', 'چهره', 'ماجراجویی', 'نقش', 'کوتاه', 'میشویم', 'متوجه', 'مختلف', 'کمک', 'بالاخره', 'نیو', 'اصل', 'سرقت', 'بیتمدن', 'روانه', 'میرسانند', 'گلهداران', 'سفر', 'بازار', 'صادر', 'جمله', 'طولانی', 'انتظار', 'سرهنگ', 'فردا', 'سال', 'بازگشت', 'فرار', 'هشت', 'ماموران', 'خاص', 'میدهدورود', 'عوض', 'آینده', 'میگذارد', 'GameSpot', 'رابطه', 'وحش', 'نمود#نما', 'بازنشسته', 'بانی', 'قبل', 'خواند#خوان', 'نیرو', 'محاصره', 'ریکتز', 'فضا', 'سراغ', 'قول', 'سوار', 'میرسند', 'تقابل', 'ابیگیل', 'پیشدرآمد', 'ماجرا', 'طبعا', 'نگاه', 'فرستاد#فرست', 'کلانتر', 'نهایت', 'آستین', 'د', 'میکنندتا', 'گذاشت#گذار', 'محل', 'قسمت', 'مهارت', 'خاویر', 'برده', 'دوئل', 'بدهی', 'دستگیر', 'میخواهد', 'انداخت#انداز', 'هدف', 'کار', 'بازمیگردد', 'شرط', 'نمرات', 'زندگی', 'آشنا', 'آبراهام', 'لحظات', 'تجدید', 'همکار', 'مک', 'سرپرست', 'سالم', 'منتشر', 'مقاله', 'منطقه', 'گروه', '۱۹۱۱', 'ویلیامسون', 'Red', 'هیچکدام', 'جدید', 'کرد#کن', 'شهر', 'مشهور', 'ویلیامسونجان', 'دیدار', 'هماکنون', 'مرور', 'مکزیک', 'کاراکترهای', 'خورد#خور', 'Nastas', 'John', 'روز', 'خرج', 'مرگ', 'موضوع', 'نوشتهایم', 'رسما', 'قلعهجان', 'خانوادهاش', 'اسب', 'مقابله', 'آلنده', 'تصمیم', 'جبهه', 'بیل', 'ارتش', 'شورشیها', 'میفهمد', 'شلیک', 'جوی', 'Uncle', 'نوبت', 'سریعا', 'میرسد', 'ویلیامسونزمانی', 'شماره', 'قرار', 'خاطر', 'ون', 'فاش', 'دستور', 'مرسر', 'نام', 'دولت', 'تعقیب', 'منبع', 'اتفاق', 'مه', 'جبهههامشکلی', 'مطمئن', 'میکنیم', 'مزرعه', 'میکند', 'درمان', 'معشوقه', 'وست', 'گذشتهدر', 'میگیرد', 'Marston', 'توانست#توان', 'همراه', 'کارگر', 'گروگان', 'برهه', 'بعد', 'دوگال', 'سث', 'مطلب', 'گرفت#گیر', 'بیفتد', 'ملاقات', 'لندن', 'ریس', 'اینجا', 'سوال', 'اعدام', 'هفتتیرکش', 'مشکل', 'ادگار', 'دیکنز', 'تسلیم', 'بومی', 'کشتن', 'اداره', 'دادهاند', 'جکبخش', 'اساسا', 'خلاصه', 'همینطور', 'فعالیت', 'تحقیقات', 'شرایط', 'ماند#مان', 'کشته', 'مخالفت', 'رئیس', 'معشوق', 'جواب', 'رهبر', 'بزرگ', 'نکردهاید', 'سرنوشت', 'شدندآمریکا', 'قدیم', 'لی', 'Redemption', 'گذشته', 'خواست', 'مکفرلین', 'جوان', 'برایتان', 'آمد#آ', 'دردسر', 'موافقت', 'سرکوب', 'صورت', 'مجبور', 'خانواده', 'مدت', 'جست#جو', 'کاراکتر', 'یافتن', 'جزء', 'تیمجان', 'انتشار', 'مداوا', 'شخصیت', 'سازمان', 'تیرانداز', 'شورش', 'اسکوئلا', 'نمیتواند', 'سلامت', 'باقی', 'نایجل', 'پایان', 'دست', 'گریز', 'سانتا', 'دومین', 'مارستونبانی', 'تشکیل', 'کاپیتان', 'یادآور', 'اعضا', 'جانسون', 'تکنولوژیهای', 'یاد', 'مبارزه', 'اتفاقات', 'داشت#دار', 'سری', 'بازی', 'تغییرات', 'آزاد', 'مارستونشوربختانه', 'دعوت'}\n",
      "Actual Category: بازی ویدیویی\n",
      "Predicted Category: هنر و سینما\n",
      "\n",
      "\n",
      "{'عنوان', 'Raider', 'مرحله', 'Alicia', 'جیسون', 'مجموعه', 'حضور', 'اعلام', 'the', 'Croft', 'اطلاعات', 'Rise', 'دلیل', 'Ubergizmo', 'لارا', 'شایعه', '۲۰۱۳', 'قبلا', 'نسخه', 'تومریدر', 'نقش', 'Variety', 'تاخیر', 'خیزش', 'جدید', 'کرافت', 'پیشه', 'ستارگان', 'جنگ', 'فیلمنامهی', 'بازار', 'بورن', 'ساخته', 'ایجاد', 'Machina', 'سایت', 'سال', 'Lara', 'From', 'سازندگان', 'بازسازی', 'man', 'خبر', 'Daisy', 'Ex', 'UNCLE', 'آشنایی', 'موفقیت', 'مجدد', 'هفتم', 'ایفا', 'Danish', 'Ridley', 'شخصیت', 'Girl', 'هنرپیشه', 'میرسد', 'قصد', 'ویکاندر', 'ریدلی', 'اساس', 'دست', 'راه', 'قرار', 'نام', 'Vikander', 'استفاده', 'فیلم', 'ساخت', 'گفت#گو', 'میپردازد', 'The', 'منبع', 'هنر', 'داشت#دار', 'Tomb', 'بازی', 'دیزی', 'ظاهر', 'میگیرد', 'تغییرات', 'of', 'آلیسیا', 'قسمت'}\n",
      "Actual Category: هنر و سینما\n",
      "Predicted Category: بازی ویدیویی\n",
      "\n",
      "\n",
      "{'عنوان', 'کنگ', 'سریال', 'میتوانم', 'واکینگ', 'Kang', 'میشود', 'گرفتهایم', 'مجموعه', 'Dead', 'نمایشگاه', 'کامیک', 'سوال', 'تازگی', 'صنعت', 'زندگی', 'Angela', 'اطمینان', 'مصاحب', 'Walking', 'حساب', 'خوشایند', 'پنل', 'نمیخواهم', 'Lincoln', 'نقش', 'لو', 'Variety', 'میتوانیم', 'منتشر', 'داد#ده', 'گروه', 'کنندگی', 'میشوند', 'آندرو', 'میدان', 'جدید', 'اصل', 'کان', 'اکتبر', 'سریالها', 'رهبر', 'بزرگ', 'صدا', 'ساخته', 'روز', 'ایجاد', 'کیفیت', 'کارل', 'Andrew', 'حول', 'مردگان', 'سال', 'آنجلا', 'ریک', '۱۵', 'Rick', 'حذف', 'لینکلن', 'تازه', 'موضوع', 'Full', 'تریلر', 'Saviorها', 'دانلود', 'چندان', 'زنده', 'بررسی', 'آینده', 'کشت#کش', 'پسر', 'نگفتهایم', 'Negan', 'مناسبت', 'کمیک', 'مقدم', 'طرفدار', 'سان', 'خواند#خوان', 'درباره', 'مهر', 'شخصیت', 'سر', 'رویداد', 'متحرک', 'بیراه', 'دد', 'میرسد', 'دهم', 'خارج', 'پایان', 'دست', 'خروج', 'نهم', 'قرار', 'گرایمز', 'Grimes', 'قصه', 'دقیقا', 'خداحافظی', 'فیلم', 'دیگو', 'گفت#گو', 'کاشت#کار', 'ساخت', 'The', 'بهبود', 'منبع', '۷', 'اتفاقات', 'معرف', 'اتفاق', 'مطمئن', 'ذهن', 'میکند', 'سریالی', 'بازی', 'انجام', 'HD', 'طوری', 'فصل', 'نیگان', 'بود#باش', 'تیزر'}\n",
      "Actual Category: هنر و سینما\n",
      "Predicted Category: بازی ویدیویی\n"
     ]
    }
   ],
   "source": [
    "counter = 0\n",
    "for i in range(0, 5200):\n",
    "    if test_df.loc[i , \"validity_with_additive_smoothing\"] == False:\n",
    "        print(\"\\n\")\n",
    "        print(test_df.loc[i , \"content\"])\n",
    "        print(\"Actual Category: \" + test_df.loc[i , \"label\"])\n",
    "        print(\"Predicted Category: \" + test_df.loc[i , \"bayes_result_with_additive_smoothing\"])\n",
    "        counter += 1\n",
    "    if(counter == 5):\n",
    "        break"
   ]
  }
 ],
 "metadata": {
  "kernelspec": {
   "display_name": "Python 3",
   "language": "python",
   "name": "python3"
  },
  "language_info": {
   "codemirror_mode": {
    "name": "ipython",
    "version": 3
   },
   "file_extension": ".py",
   "mimetype": "text/x-python",
   "name": "python",
   "nbconvert_exporter": "python",
   "pygments_lexer": "ipython3",
   "version": "3.8.8"
  }
 },
 "nbformat": 4,
 "nbformat_minor": 5
}
